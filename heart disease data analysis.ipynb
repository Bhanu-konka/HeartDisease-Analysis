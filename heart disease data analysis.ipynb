{
 "cells": [
  {
   "cell_type": "code",
   "execution_count": 3,
   "id": "9ceb6e4b-4e79-421e-8082-cd99ca191223",
   "metadata": {},
   "outputs": [],
   "source": [
    "import numpy as np\n",
    "import pandas as pd\n",
    "from matplotlib import pyplot as plt\n",
    "import seaborn as sns"
   ]
  },
  {
   "cell_type": "code",
   "execution_count": 4,
   "id": "e9ec5d9b-8b76-4c8c-91e9-fb4e6a3d75f8",
   "metadata": {},
   "outputs": [],
   "source": [
    "data=pd.read_csv(\"C:\\\\Users\\\\konka\\\\Desktop\\\\heart.csv\")"
   ]
  },
  {
   "cell_type": "code",
   "execution_count": 5,
   "id": "c3fb60c8-6591-43af-a8d8-28bd079b8c2e",
   "metadata": {},
   "outputs": [],
   "source": [
    "df=data"
   ]
  },
  {
   "cell_type": "code",
   "execution_count": 6,
   "id": "1148f3e3-982d-4014-815a-97cac8eea4b1",
   "metadata": {},
   "outputs": [
    {
     "data": {
      "text/html": [
       "<div>\n",
       "<style scoped>\n",
       "    .dataframe tbody tr th:only-of-type {\n",
       "        vertical-align: middle;\n",
       "    }\n",
       "\n",
       "    .dataframe tbody tr th {\n",
       "        vertical-align: top;\n",
       "    }\n",
       "\n",
       "    .dataframe thead th {\n",
       "        text-align: right;\n",
       "    }\n",
       "</style>\n",
       "<table border=\"1\" class=\"dataframe\">\n",
       "  <thead>\n",
       "    <tr style=\"text-align: right;\">\n",
       "      <th></th>\n",
       "      <th>Age</th>\n",
       "      <th>Sex</th>\n",
       "      <th>ChestPainType</th>\n",
       "      <th>RestingBP</th>\n",
       "      <th>Cholesterol</th>\n",
       "      <th>FastingBS</th>\n",
       "      <th>RestingECG</th>\n",
       "      <th>MaxHR</th>\n",
       "      <th>ExerciseAngina</th>\n",
       "      <th>Oldpeak</th>\n",
       "      <th>ST_Slope</th>\n",
       "      <th>HeartDisease</th>\n",
       "    </tr>\n",
       "  </thead>\n",
       "  <tbody>\n",
       "    <tr>\n",
       "      <th>0</th>\n",
       "      <td>40</td>\n",
       "      <td>M</td>\n",
       "      <td>ATA</td>\n",
       "      <td>140</td>\n",
       "      <td>289</td>\n",
       "      <td>0</td>\n",
       "      <td>Normal</td>\n",
       "      <td>172</td>\n",
       "      <td>N</td>\n",
       "      <td>0.0</td>\n",
       "      <td>Up</td>\n",
       "      <td>0</td>\n",
       "    </tr>\n",
       "    <tr>\n",
       "      <th>1</th>\n",
       "      <td>49</td>\n",
       "      <td>F</td>\n",
       "      <td>NAP</td>\n",
       "      <td>160</td>\n",
       "      <td>180</td>\n",
       "      <td>0</td>\n",
       "      <td>Normal</td>\n",
       "      <td>156</td>\n",
       "      <td>N</td>\n",
       "      <td>1.0</td>\n",
       "      <td>Flat</td>\n",
       "      <td>1</td>\n",
       "    </tr>\n",
       "  </tbody>\n",
       "</table>\n",
       "</div>"
      ],
      "text/plain": [
       "   Age Sex ChestPainType  RestingBP  Cholesterol  FastingBS RestingECG  MaxHR  \\\n",
       "0   40   M           ATA        140          289          0     Normal    172   \n",
       "1   49   F           NAP        160          180          0     Normal    156   \n",
       "\n",
       "  ExerciseAngina  Oldpeak ST_Slope  HeartDisease  \n",
       "0              N      0.0       Up             0  \n",
       "1              N      1.0     Flat             1  "
      ]
     },
     "execution_count": 6,
     "metadata": {},
     "output_type": "execute_result"
    }
   ],
   "source": [
    "df.head(2)"
   ]
  },
  {
   "cell_type": "code",
   "execution_count": 7,
   "id": "99eae625-862b-4e65-bdb9-c1096016441d",
   "metadata": {},
   "outputs": [
    {
     "data": {
      "text/plain": [
       "Age                50\n",
       "Sex                 2\n",
       "ChestPainType       4\n",
       "RestingBP          67\n",
       "Cholesterol       222\n",
       "FastingBS           2\n",
       "RestingECG          3\n",
       "MaxHR             119\n",
       "ExerciseAngina      2\n",
       "Oldpeak            53\n",
       "ST_Slope            3\n",
       "HeartDisease        2\n",
       "dtype: int64"
      ]
     },
     "execution_count": 7,
     "metadata": {},
     "output_type": "execute_result"
    }
   ],
   "source": [
    "df.nunique()"
   ]
  },
  {
   "cell_type": "code",
   "execution_count": 8,
   "id": "46f87498-6fc3-4608-b48e-420fa632884e",
   "metadata": {},
   "outputs": [
    {
     "data": {
      "text/plain": [
       "array([140, 160, 130, 138, 150, 120, 110, 136, 115, 100, 124, 113, 125,\n",
       "       145, 112, 132, 118, 170, 142, 190, 135, 180, 108, 155, 128, 106,\n",
       "        92, 200, 122,  98, 105, 133,  95,  80, 137, 185, 165, 126, 152,\n",
       "       116,   0, 144, 154, 134, 104, 139, 131, 141, 178, 146, 158, 123,\n",
       "       102,  96, 143, 172, 156, 114, 127, 101, 174,  94, 148, 117, 192,\n",
       "       129, 164], dtype=int64)"
      ]
     },
     "execution_count": 8,
     "metadata": {},
     "output_type": "execute_result"
    }
   ],
   "source": [
    "df[\"RestingBP\"].unique()"
   ]
  },
  {
   "cell_type": "code",
   "execution_count": 9,
   "id": "4f2d176e-6b23-4bbe-8f14-596edd88dab7",
   "metadata": {},
   "outputs": [
    {
     "data": {
      "text/plain": [
       "(918, 12)"
      ]
     },
     "execution_count": 9,
     "metadata": {},
     "output_type": "execute_result"
    }
   ],
   "source": [
    "df.shape"
   ]
  },
  {
   "cell_type": "code",
   "execution_count": 10,
   "id": "22a35633-c0c5-45d2-a958-18ec4998db64",
   "metadata": {},
   "outputs": [
    {
     "data": {
      "text/plain": [
       "array([0, 1], dtype=int64)"
      ]
     },
     "execution_count": 10,
     "metadata": {},
     "output_type": "execute_result"
    }
   ],
   "source": [
    "df[\"HeartDisease\"].unique()"
   ]
  },
  {
   "cell_type": "code",
   "execution_count": 11,
   "id": "e4c5ab9a-90e1-42a0-8baa-e842c685b9af",
   "metadata": {},
   "outputs": [
    {
     "data": {
      "text/plain": [
       "Age               0\n",
       "Sex               0\n",
       "ChestPainType     0\n",
       "RestingBP         0\n",
       "Cholesterol       0\n",
       "FastingBS         0\n",
       "RestingECG        0\n",
       "MaxHR             0\n",
       "ExerciseAngina    0\n",
       "Oldpeak           0\n",
       "ST_Slope          0\n",
       "HeartDisease      0\n",
       "dtype: int64"
      ]
     },
     "execution_count": 11,
     "metadata": {},
     "output_type": "execute_result"
    }
   ],
   "source": [
    "df.isna().sum()"
   ]
  },
  {
   "cell_type": "code",
   "execution_count": 12,
   "id": "1ce4f736-8e6d-4875-8370-c6b329771175",
   "metadata": {},
   "outputs": [
    {
     "data": {
      "text/plain": [
       "<Axes: xlabel='Sex', ylabel='count'>"
      ]
     },
     "execution_count": 12,
     "metadata": {},
     "output_type": "execute_result"
    },
    {
     "data": {
      "image/png": "[encoded data removed]",
      "text/plain": [
       "<Figure size 640x480 with 1 Axes>"
      ]
     },
     "metadata": {},
     "output_type": "display_data"
    }
   ],
   "source": [
    "sns.countplot(data=df,x=\"Sex\",hue=\"HeartDisease\")"
   ]
  },
  {
   "cell_type": "code",
   "execution_count": 13,
   "id": "1e4d866e-f978-47dd-a94e-91c0b6d1bfc2",
   "metadata": {},
   "outputs": [
    {
     "data": {
      "text/plain": [
       "<Axes: xlabel='Age'>"
      ]
     },
     "execution_count": 13,
     "metadata": {},
     "output_type": "execute_result"
    },
    {
     "data": {
      "image/png": "[encoded data removed]",
      "text/plain": [
       "<Figure size 1000x500 with 1 Axes>"
      ]
     },
     "metadata": {},
     "output_type": "display_data"
    }
   ],
   "source": [
    "df['Age'].value_counts().sort_index().plot(kind='bar', figsize=(10,5))"
   ]
  },
  {
   "cell_type": "code",
   "execution_count": 14,
   "id": "adc76eaf-b3cc-4b78-8e25-84e928a24f23",
   "metadata": {},
   "outputs": [
    {
     "ename": "SyntaxError",
     "evalue": "'(' was never closed (221926511.py, line 1)",
     "output_type": "error",
     "traceback": [
      "\u001b[1;36m  Cell \u001b[1;32mIn[14], line 1\u001b[1;36m\u001b[0m\n\u001b[1;33m    bins=list(range(10,100,10)\u001b[0m\n\u001b[1;37m             ^\u001b[0m\n\u001b[1;31mSyntaxError\u001b[0m\u001b[1;31m:\u001b[0m '(' was never closed\n"
     ]
    }
   ],
   "source": [
    "bins=list(range(10,100,10)\n",
    "sns.histplot(data=df,x=\"Age\",bins=bins)"
   ]
  },
  {
   "cell_type": "code",
   "execution_count": null,
   "id": "96927c6a-9b08-41dc-8195-d16ffb8a0051",
   "metadata": {},
   "outputs": [],
   "source": [
    "bins=list(range(50,60,1))\n",
    "sns.histplot(data=df,x=\"Age\",bins=bins)\n",
    "plt.xticks(bins)\n",
    "plt.show()"
   ]
  },
  {
   "cell_type": "markdown",
   "id": "d798fa8f-50ef-49e5-a563-da544ee2cf8b",
   "metadata": {},
   "source": [
    "### conclusion here the  So coming to the conclusion, the people of the age group starting from 28 to 77 are the heart disease patients. In this, the mainly highest average of the age group is 54 and the next followed by that of 58. 54 and 58 are the age group people who have experienced the highest heart attack disease. And then coming to the next, the age group of 50 to 60 are the highest with 355 plus people who have attacked with heart disease. And the next 45 to 58 limit and then 60 to 70 are almost equal. And then the least age group is that is of 20 to 30, the people with the heart attack. And the next one is in this 50 to 60 highest, in this 50 to 60, 58 to 59 people are those who have experienced the highest heart attack and then followed by 54 to 65."
   ]
  },
  {
   "cell_type": "code",
   "execution_count": null,
   "id": "4d5b93c0-bcbf-48db-b361-b30674f88fba",
   "metadata": {},
   "outputs": [],
   "source": [
    "f1=df[df[\"HeartDisease\"]==1]"
   ]
  },
  {
   "cell_type": "code",
   "execution_count": null,
   "id": "5f734fb4-f9f8-4bde-b8c1-3cb56a1b8dde",
   "metadata": {},
   "outputs": [],
   "source": [
    "f1['Age'].value_counts().sort_index().plot(kind='bar', figsize=(10,5))"
   ]
  },
  {
   "cell_type": "code",
   "execution_count": null,
   "id": "dec31b70-abd8-4f8b-9fb9-a8d32465186c",
   "metadata": {},
   "outputs": [],
   "source": [
    "bins=list(range(10,100,10))\n",
    "sns.histplot(data=f1,x=\"Age\",bins=bins)"
   ]
  },
  {
   "cell_type": "code",
   "execution_count": null,
   "id": "e67b8867-ed37-43e6-870b-570ec9b1dba7",
   "metadata": {},
   "outputs": [],
   "source": [
    "bins=list(range(50,60,1))\n",
    "sns.histplot(data=f1,x=\"Age\",bins=bins)\n",
    "plt.xticks(bins)\n",
    "plt.show()"
   ]
  },
  {
   "cell_type": "markdown",
   "id": "efae9b37-fd4d-4b5a-9512-3bfa6b00ef34",
   "metadata": {},
   "source": [
    "### So after classifying the data set, which consists of only the heart patients, the data has completely changed. So here it's 58 is the age where most of the people have received heart attack. And then next, I think, where the people of age 28 have completely removed, the starting heart attack age by the person have received, his age will be 31 and the last age is 77. So starting from 31, the heart attack is going to attack to the students. Coming to the ranges, which group of the people have more affected. Here we have the 50 to 60 people, 50 to 60 age group people are most affected. That is more than 200 plus and the next 60 to 70. So these group of the people are more highly affected and the next 40 to 50 are the people. So 30 to 40 as well as 70 to 80 are almost of the same count of the people are affected. That is 20 by 25 years people. And whereas coming to the, as we've seen that 50 to 60 age group people are mostly affected. Then we will be coming to the another age group. I mean, more broadly into the 50 to 60. So here, in this 50 to 60, 58 to 59% of the people are highly affected. And then followed by 58."
   ]
  },
  {
   "cell_type": "code",
   "execution_count": null,
   "id": "746e3064-6ee8-4c49-a154-42f799be963c",
   "metadata": {},
   "outputs": [],
   "source": [
    "df.head(5)"
   ]
  },
  {
   "cell_type": "code",
   "execution_count": null,
   "id": "7ee18205-83ed-4efe-a6fe-be6665d3c3fb",
   "metadata": {},
   "outputs": [],
   "source": [
    "df[\"RestingBP\"].value_counts()"
   ]
  },
  {
   "cell_type": "code",
   "execution_count": null,
   "id": "458b3f60-43aa-4a83-b127-518cf2893b80",
   "metadata": {},
   "outputs": [],
   "source": [
    "bins=list(range(0,200,10))\n",
    "plt.figure(figsize=(12,7))\n",
    "sns.displot(data=f1,x=\"RestingBP\",kde=True,bins=bins)\n",
    "plt.xticks(bins,rotation=90)\n",
    "plt.show()"
   ]
  },
  {
   "cell_type": "code",
   "execution_count": null,
   "id": "98fe9e2e-e54f-4c18-983d-5108d6889ab0",
   "metadata": {},
   "outputs": [],
   "source": [
    "f2=df[df[\"HeartDisease\"]==0]"
   ]
  },
  {
   "cell_type": "code",
   "execution_count": null,
   "id": "8a1206f4-9c2a-41c6-8392-420c89e1560d",
   "metadata": {},
   "outputs": [],
   "source": [
    "f2.head(2)"
   ]
  },
  {
   "cell_type": "code",
   "execution_count": null,
   "id": "add6337a-b640-4103-9a44-7e4cf6c5d592",
   "metadata": {},
   "outputs": [],
   "source": [
    "plt.title(\"maxHr for heartdisease people\")\n",
    "bins=list(range(80,200,20))\n",
    "sns.histplot(data=f2,x=\"MaxHR\",kde=True,bins=bins)"
   ]
  },
  {
   "cell_type": "code",
   "execution_count": null,
   "id": "c0314e9c-f6e6-4bde-bd09-704c554a6cb6",
   "metadata": {},
   "outputs": [],
   "source": [
    "plt.title(\"maxHr for non  heartdisease people\")\n",
    "bins=list(range(80,200,20))\n",
    "sns.histplot(data=f1,x=\"MaxHR\",kde=True,bins=bins)"
   ]
  },
  {
   "cell_type": "code",
   "execution_count": null,
   "id": "a12ad67d-72e5-4859-9219-626697622729",
   "metadata": {},
   "outputs": [],
   "source": [
    "plt.title(\"maxHr combo of both heartdisease people\")\n",
    "bins=list(range(80,200,20))\n",
    "sns.histplot(data=df,x=\"MaxHR\",kde=True,bins=bins)"
   ]
  },
  {
   "cell_type": "code",
   "execution_count": null,
   "id": "bbd3c984-9daa-4425-b8dc-6351f6983d87",
   "metadata": {},
   "outputs": [],
   "source": [
    "df.head(1)"
   ]
  },
  {
   "cell_type": "code",
   "execution_count": null,
   "id": "74f400dc-29b7-4486-9dc6-16a78d3e09a5",
   "metadata": {},
   "outputs": [],
   "source": [
    "plt.title(\"Cholesterol for both\")\n",
    "bins=list(range(0,600,25))\n",
    "sns.histplot(data=df,x=\"Cholesterol\",kde=True,bins=bins)\n",
    "plt.xticks(bins,rotation=90)\n",
    "plt.show()"
   ]
  },
  {
   "cell_type": "code",
   "execution_count": null,
   "id": "5bf9d9cf-869d-48c3-83ed-3207e69bd6d6",
   "metadata": {},
   "outputs": [],
   "source": [
    "plt.title(\"Cholesterol for heart disease people\")\n",
    "bins=list(range(0,600,25))\n",
    "sns.histplot(data=f1,x=\"Cholesterol\",kde=True,bins=bins)\n",
    "plt.xticks(bins,rotation=90)\n",
    "plt.show()"
   ]
  },
  {
   "cell_type": "code",
   "execution_count": null,
   "id": "ba4d05e0-9295-4d5d-8689-9ab4be358b1c",
   "metadata": {},
   "outputs": [],
   "source": [
    "plt.title(\"Cholesterol for non  heart disease people\")\n",
    "bins=list(range(0,600,25))\n",
    "sns.histplot(data=f2,x=\"Cholesterol\",kde=True,bins=bins)\n",
    "plt.xticks(bins,rotation=90)\n",
    "plt.show()"
   ]
  },
  {
   "cell_type": "code",
   "execution_count": null,
   "id": "ab3a1de9-610b-4102-ad89-831ab2a61574",
   "metadata": {},
   "outputs": [],
   "source": [
    "df.head(0)"
   ]
  },
  {
   "cell_type": "code",
   "execution_count": null,
   "id": "47f8a764-edcb-4fe7-a955-dde26a441bd0",
   "metadata": {},
   "outputs": [],
   "source": [
    "sns.histplot(data=df,x=\"ExerciseAngina\")"
   ]
  },
  {
   "cell_type": "code",
   "execution_count": null,
   "id": "a8fccd79-7395-4909-9b95-20733b3fc16f",
   "metadata": {},
   "outputs": [],
   "source": [
    "sns.histplot(data=f1,x=\"ExerciseAngina\")"
   ]
  },
  {
   "cell_type": "markdown",
   "id": "b2a97551-8f48-4048-bf0d-67879ab2cb23",
   "metadata": {},
   "source": [
    "# violin plot"
   ]
  },
  {
   "cell_type": "code",
   "execution_count": null,
   "id": "a6cac43f-f6a2-4477-97c9-e812e53e108a",
   "metadata": {},
   "outputs": [],
   "source": [
    "sns.violinplot(x=df[\"Age\"])"
   ]
  },
  {
   "cell_type": "code",
   "execution_count": null,
   "id": "5fd70864-093f-4f45-a80d-b75a1dfb0853",
   "metadata": {},
   "outputs": [],
   "source": [
    "sns.violinplot(y=df[\"Sex\"],x=df[\"HeartDisease\"])"
   ]
  },
  {
   "cell_type": "code",
   "execution_count": null,
   "id": "3920554d-f7cf-4fa6-93c3-791a6ac7cd17",
   "metadata": {},
   "outputs": [],
   "source": [
    "sns.barplot(data=df,x=\"Sex\",y=\"HeartDisease\")"
   ]
  },
  {
   "cell_type": "code",
   "execution_count": null,
   "id": "39447401-0e5b-41f5-81fe-89f43aa0046d",
   "metadata": {},
   "outputs": [],
   "source": [
    "sns.violinplot(y=df[\"Age\"],x=df[\"HeartDisease\"])"
   ]
  },
  {
   "cell_type": "code",
   "execution_count": null,
   "id": "5a475d29-94ee-4777-bce6-abeb6e3a9f2b",
   "metadata": {},
   "outputs": [],
   "source": [
    "df.head(0)"
   ]
  },
  {
   "cell_type": "code",
   "execution_count": null,
   "id": "c0d9f197-7f52-4c8b-922f-e461d8f93b24",
   "metadata": {},
   "outputs": [],
   "source": [
    "sns.violinplot(y=df[\"Cholesterol\"],x=df[\"HeartDisease\"])"
   ]
  },
  {
   "cell_type": "code",
   "execution_count": null,
   "id": "60baeaa5-948d-4ebc-9234-d686f2fd3e8a",
   "metadata": {},
   "outputs": [],
   "source": [
    "df.head(2)"
   ]
  },
  {
   "cell_type": "code",
   "execution_count": 49,
   "id": "a46b3705-4283-44dc-99c8-2607fcb2505c",
   "metadata": {},
   "outputs": [],
   "source": [
    "df_corr=df[[\"Age\",\"RestingBP\",\"Cholesterol\",\"FastingBS\",\"MaxHR\",\"Oldpeak\",\"HeartDisease\"]]"
   ]
  },
  {
   "cell_type": "code",
   "execution_count": 51,
   "id": "1168dd31-0022-4d3d-b2f0-19b7bfb86c4f",
   "metadata": {},
   "outputs": [
    {
     "data": {
      "text/html": [
       "<div>\n",
       "<style scoped>\n",
       "    .dataframe tbody tr th:only-of-type {\n",
       "        vertical-align: middle;\n",
       "    }\n",
       "\n",
       "    .dataframe tbody tr th {\n",
       "        vertical-align: top;\n",
       "    }\n",
       "\n",
       "    .dataframe thead th {\n",
       "        text-align: right;\n",
       "    }\n",
       "</style>\n",
       "<table border=\"1\" class=\"dataframe\">\n",
       "  <thead>\n",
       "    <tr style=\"text-align: right;\">\n",
       "      <th></th>\n",
       "      <th>Age</th>\n",
       "      <th>RestingBP</th>\n",
       "      <th>Cholesterol</th>\n",
       "      <th>FastingBS</th>\n",
       "      <th>MaxHR</th>\n",
       "      <th>Oldpeak</th>\n",
       "      <th>HeartDisease</th>\n",
       "    </tr>\n",
       "  </thead>\n",
       "  <tbody>\n",
       "    <tr>\n",
       "      <th>Age</th>\n",
       "      <td>1.000000</td>\n",
       "      <td>0.254399</td>\n",
       "      <td>-0.095282</td>\n",
       "      <td>0.198039</td>\n",
       "      <td>-0.382045</td>\n",
       "      <td>0.258612</td>\n",
       "      <td>0.282039</td>\n",
       "    </tr>\n",
       "    <tr>\n",
       "      <th>RestingBP</th>\n",
       "      <td>0.254399</td>\n",
       "      <td>1.000000</td>\n",
       "      <td>0.100893</td>\n",
       "      <td>0.070193</td>\n",
       "      <td>-0.112135</td>\n",
       "      <td>0.164803</td>\n",
       "      <td>0.107589</td>\n",
       "    </tr>\n",
       "    <tr>\n",
       "      <th>Cholesterol</th>\n",
       "      <td>-0.095282</td>\n",
       "      <td>0.100893</td>\n",
       "      <td>1.000000</td>\n",
       "      <td>-0.260974</td>\n",
       "      <td>0.235792</td>\n",
       "      <td>0.050148</td>\n",
       "      <td>-0.232741</td>\n",
       "    </tr>\n",
       "    <tr>\n",
       "      <th>FastingBS</th>\n",
       "      <td>0.198039</td>\n",
       "      <td>0.070193</td>\n",
       "      <td>-0.260974</td>\n",
       "      <td>1.000000</td>\n",
       "      <td>-0.131438</td>\n",
       "      <td>0.052698</td>\n",
       "      <td>0.267291</td>\n",
       "    </tr>\n",
       "    <tr>\n",
       "      <th>MaxHR</th>\n",
       "      <td>-0.382045</td>\n",
       "      <td>-0.112135</td>\n",
       "      <td>0.235792</td>\n",
       "      <td>-0.131438</td>\n",
       "      <td>1.000000</td>\n",
       "      <td>-0.160691</td>\n",
       "      <td>-0.400421</td>\n",
       "    </tr>\n",
       "    <tr>\n",
       "      <th>Oldpeak</th>\n",
       "      <td>0.258612</td>\n",
       "      <td>0.164803</td>\n",
       "      <td>0.050148</td>\n",
       "      <td>0.052698</td>\n",
       "      <td>-0.160691</td>\n",
       "      <td>1.000000</td>\n",
       "      <td>0.403951</td>\n",
       "    </tr>\n",
       "    <tr>\n",
       "      <th>HeartDisease</th>\n",
       "      <td>0.282039</td>\n",
       "      <td>0.107589</td>\n",
       "      <td>-0.232741</td>\n",
       "      <td>0.267291</td>\n",
       "      <td>-0.400421</td>\n",
       "      <td>0.403951</td>\n",
       "      <td>1.000000</td>\n",
       "    </tr>\n",
       "  </tbody>\n",
       "</table>\n",
       "</div>"
      ],
      "text/plain": [
       "                   Age  RestingBP  Cholesterol  FastingBS     MaxHR   Oldpeak  \\\n",
       "Age           1.000000   0.254399    -0.095282   0.198039 -0.382045  0.258612   \n",
       "RestingBP     0.254399   1.000000     0.100893   0.070193 -0.112135  0.164803   \n",
       "Cholesterol  -0.095282   0.100893     1.000000  -0.260974  0.235792  0.050148   \n",
       "FastingBS     0.198039   0.070193    -0.260974   1.000000 -0.131438  0.052698   \n",
       "MaxHR        -0.382045  -0.112135     0.235792  -0.131438  1.000000 -0.160691   \n",
       "Oldpeak       0.258612   0.164803     0.050148   0.052698 -0.160691  1.000000   \n",
       "HeartDisease  0.282039   0.107589    -0.232741   0.267291 -0.400421  0.403951   \n",
       "\n",
       "              HeartDisease  \n",
       "Age               0.282039  \n",
       "RestingBP         0.107589  \n",
       "Cholesterol      -0.232741  \n",
       "FastingBS         0.267291  \n",
       "MaxHR            -0.400421  \n",
       "Oldpeak           0.403951  \n",
       "HeartDisease      1.000000  "
      ]
     },
     "execution_count": 51,
     "metadata": {},
     "output_type": "execute_result"
    }
   ],
   "source": [
    "df_corr.corr()"
   ]
  },
  {
   "cell_type": "code",
   "execution_count": 53,
   "id": "80b510da-2a73-4490-a331-62914dd542af",
   "metadata": {},
   "outputs": [
    {
     "data": {
      "text/plain": [
       "<Axes: >"
      ]
     },
     "execution_count": 53,
     "metadata": {},
     "output_type": "execute_result"
    },
    {
     "data": {
      "image/png": "[encoded data removed]",
      "text/plain": [
       "<Figure size 640x480 with 2 Axes>"
      ]
     },
     "metadata": {},
     "output_type": "display_data"
    }
   ],
   "source": [
    "import seaborn as sns\n",
    "sns.heatmap(df_corr.corr())"
   ]
  },
  {
   "cell_type": "code",
   "execution_count": null,
   "id": "14da93f2-9212-4b7f-a4d1-ffa7c5433d4f",
   "metadata": {},
   "outputs": [],
   "source": []
  }
 ],
 "metadata": {
  "kernelspec": {
   "display_name": "Python 3 (ipykernel)",
   "language": "python",
   "name": "python3"
  },
  "language_info": {
   "codemirror_mode": {
    "name": "ipython",
    "version": 3
   },
   "file_extension": ".py",
   "mimetype": "text/x-python",
   "name": "python",
   "nbconvert_exporter": "python",
   "pygments_lexer": "ipython3",
   "version": "3.12.7"
  }
 },
 "nbformat": 4,
 "nbformat_minor": 5
}
